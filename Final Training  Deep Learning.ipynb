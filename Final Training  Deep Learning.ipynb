{
 "cells": [
  {
   "cell_type": "code",
   "execution_count": 2,
   "id": "6388ecf4",
   "metadata": {},
   "outputs": [],
   "source": [
    "import warnings\n",
    "warnings.filterwarnings('ignore')\n",
    "import numpy as np\n",
    "import pandas as pd\n",
    "import matplotlib.pyplot as plt\n",
    "import seaborn as sns\n",
    "import nltk\n",
    "import re\n",
    "from wordcloud import WordCloud"
   ]
  },
  {
   "cell_type": "code",
   "execution_count": 3,
   "id": "4d2ae111",
   "metadata": {},
   "outputs": [],
   "source": [
    "from tensorflow.keras.preprocessing.text import Tokenizer\n",
    "from tensorflow.keras.preprocessing.sequence import pad_sequences\n",
    "from tensorflow.keras.models import Sequential\n",
    "from tensorflow.keras.layers import Dense, Embedding, LSTM, Conv1D, MaxPooling1D\n",
    "from sklearn.model_selection import train_test_split\n",
    "from sklearn.metrics import classification_report, accuracy_score"
   ]
  },
  {
   "cell_type": "code",
   "execution_count": 4,
   "id": "d8f8e991",
   "metadata": {},
   "outputs": [],
   "source": [
    "df=pd.read_csv(\"FinalDataset.csv\")"
   ]
  },
  {
   "cell_type": "code",
   "execution_count": 5,
   "id": "2424e565",
   "metadata": {},
   "outputs": [
    {
     "data": {
      "text/html": [
       "<div>\n",
       "<style scoped>\n",
       "    .dataframe tbody tr th:only-of-type {\n",
       "        vertical-align: middle;\n",
       "    }\n",
       "\n",
       "    .dataframe tbody tr th {\n",
       "        vertical-align: top;\n",
       "    }\n",
       "\n",
       "    .dataframe thead th {\n",
       "        text-align: right;\n",
       "    }\n",
       "</style>\n",
       "<table border=\"1\" class=\"dataframe\">\n",
       "  <thead>\n",
       "    <tr style=\"text-align: right;\">\n",
       "      <th></th>\n",
       "      <th>Unnamed: 0</th>\n",
       "      <th>combined_text</th>\n",
       "      <th>label</th>\n",
       "    </tr>\n",
       "  </thead>\n",
       "  <tbody>\n",
       "    <tr>\n",
       "      <th>0</th>\n",
       "      <td>0</td>\n",
       "      <td>As U.S. budget fight looms, Republicans flip t...</td>\n",
       "      <td>0</td>\n",
       "    </tr>\n",
       "    <tr>\n",
       "      <th>1</th>\n",
       "      <td>1</td>\n",
       "      <td>U.S. military to accept transgender recruits o...</td>\n",
       "      <td>0</td>\n",
       "    </tr>\n",
       "    <tr>\n",
       "      <th>2</th>\n",
       "      <td>2</td>\n",
       "      <td>Senior U.S. Republican senator: 'Let Mr. Muell...</td>\n",
       "      <td>0</td>\n",
       "    </tr>\n",
       "    <tr>\n",
       "      <th>3</th>\n",
       "      <td>3</td>\n",
       "      <td>FBI Russia probe helped by Australian diplomat...</td>\n",
       "      <td>0</td>\n",
       "    </tr>\n",
       "    <tr>\n",
       "      <th>4</th>\n",
       "      <td>4</td>\n",
       "      <td>Trump wants Postal Service to charge 'much mor...</td>\n",
       "      <td>0</td>\n",
       "    </tr>\n",
       "  </tbody>\n",
       "</table>\n",
       "</div>"
      ],
      "text/plain": [
       "   Unnamed: 0                                      combined_text  label\n",
       "0           0  As U.S. budget fight looms, Republicans flip t...      0\n",
       "1           1  U.S. military to accept transgender recruits o...      0\n",
       "2           2  Senior U.S. Republican senator: 'Let Mr. Muell...      0\n",
       "3           3  FBI Russia probe helped by Australian diplomat...      0\n",
       "4           4  Trump wants Postal Service to charge 'much mor...      0"
      ]
     },
     "execution_count": 5,
     "metadata": {},
     "output_type": "execute_result"
    }
   ],
   "source": [
    "df.head()"
   ]
  },
  {
   "cell_type": "code",
   "execution_count": null,
   "id": "da69e49e",
   "metadata": {},
   "outputs": [],
   "source": []
  },
  {
   "cell_type": "code",
   "execution_count": 5,
   "id": "ba934f31",
   "metadata": {},
   "outputs": [
    {
     "name": "stderr",
     "output_type": "stream",
     "text": [
      "[nltk_data] Error loading stopwords: <urlopen error [Errno 2] No such\n",
      "[nltk_data]     file or directory>\n",
      "[nltk_data] Downloading package punkt to\n",
      "[nltk_data]     C:\\Users\\naman\\AppData\\Roaming\\nltk_data...\n",
      "[nltk_data]   Package punkt is already up-to-date!\n"
     ]
    },
    {
     "data": {
      "text/plain": [
       "True"
      ]
     },
     "execution_count": 5,
     "metadata": {},
     "output_type": "execute_result"
    }
   ],
   "source": [
    "nltk.download('stopwords')\n",
    "nltk.download('punkt')"
   ]
  },
  {
   "cell_type": "code",
   "execution_count": 6,
   "id": "f8c7c068",
   "metadata": {},
   "outputs": [],
   "source": [
    "df = df[df['combined_text'].apply(lambda x: isinstance(x, str))]"
   ]
  },
  {
   "cell_type": "code",
   "execution_count": 7,
   "id": "9e01338e",
   "metadata": {},
   "outputs": [],
   "source": [
    "y = df[\"label\"].values\n",
    "# Removing punctuation and useless words\n",
    "X = []\n",
    "stop_words = set(nltk.corpus.stopwords.words(\"english\"))\n",
    "tokenizer = nltk.tokenize.RegexpTokenizer(r'\\w+')\n",
    "for par in df[\"combined_text\"].values:\n",
    "    tmp = []\n",
    "    sentences = nltk.sent_tokenize(par)\n",
    "    for sent in sentences:\n",
    "        sent = sent.lower()\n",
    "        tokens = tokenizer.tokenize(sent)\n",
    "        filtered_words = [w.strip() for w in tokens if w not in stop_words and len(w) > 1]\n",
    "        tmp.extend(filtered_words)\n",
    "    X.append(tmp)\n"
   ]
  },
  {
   "cell_type": "code",
   "execution_count": 8,
   "id": "771a51b6",
   "metadata": {},
   "outputs": [
    {
     "data": {
      "text/html": [
       "<div>\n",
       "<style scoped>\n",
       "    .dataframe tbody tr th:only-of-type {\n",
       "        vertical-align: middle;\n",
       "    }\n",
       "\n",
       "    .dataframe tbody tr th {\n",
       "        vertical-align: top;\n",
       "    }\n",
       "\n",
       "    .dataframe thead th {\n",
       "        text-align: right;\n",
       "    }\n",
       "</style>\n",
       "<table border=\"1\" class=\"dataframe\">\n",
       "  <thead>\n",
       "    <tr style=\"text-align: right;\">\n",
       "      <th></th>\n",
       "      <th>Unnamed: 0</th>\n",
       "      <th>combined_text</th>\n",
       "      <th>label</th>\n",
       "    </tr>\n",
       "  </thead>\n",
       "  <tbody>\n",
       "    <tr>\n",
       "      <th>0</th>\n",
       "      <td>0</td>\n",
       "      <td>As U.S. budget fight looms, Republicans flip t...</td>\n",
       "      <td>0</td>\n",
       "    </tr>\n",
       "    <tr>\n",
       "      <th>1</th>\n",
       "      <td>1</td>\n",
       "      <td>U.S. military to accept transgender recruits o...</td>\n",
       "      <td>0</td>\n",
       "    </tr>\n",
       "    <tr>\n",
       "      <th>2</th>\n",
       "      <td>2</td>\n",
       "      <td>Senior U.S. Republican senator: 'Let Mr. Muell...</td>\n",
       "      <td>0</td>\n",
       "    </tr>\n",
       "    <tr>\n",
       "      <th>3</th>\n",
       "      <td>3</td>\n",
       "      <td>FBI Russia probe helped by Australian diplomat...</td>\n",
       "      <td>0</td>\n",
       "    </tr>\n",
       "    <tr>\n",
       "      <th>4</th>\n",
       "      <td>4</td>\n",
       "      <td>Trump wants Postal Service to charge 'much mor...</td>\n",
       "      <td>0</td>\n",
       "    </tr>\n",
       "    <tr>\n",
       "      <th>...</th>\n",
       "      <td>...</td>\n",
       "      <td>...</td>\n",
       "      <td>...</td>\n",
       "    </tr>\n",
       "    <tr>\n",
       "      <th>63117</th>\n",
       "      <td>72108</td>\n",
       "      <td>Kris Kobach: Democrats Already Attacking Elect...</td>\n",
       "      <td>0</td>\n",
       "    </tr>\n",
       "    <tr>\n",
       "      <th>63118</th>\n",
       "      <td>72109</td>\n",
       "      <td>Police Are Now Warning People To Take A Photo ...</td>\n",
       "      <td>1</td>\n",
       "    </tr>\n",
       "    <tr>\n",
       "      <th>63119</th>\n",
       "      <td>72117</td>\n",
       "      <td>Tested by Russia, NATO Struggles to Stay Credi...</td>\n",
       "      <td>0</td>\n",
       "    </tr>\n",
       "    <tr>\n",
       "      <th>63120</th>\n",
       "      <td>72123</td>\n",
       "      <td>Dallas, Roger Federer, Hillary Clinton: Your F...</td>\n",
       "      <td>0</td>\n",
       "    </tr>\n",
       "    <tr>\n",
       "      <th>63121</th>\n",
       "      <td>72124</td>\n",
       "      <td>An Unlikely Contender Rises in France as the A...</td>\n",
       "      <td>0</td>\n",
       "    </tr>\n",
       "  </tbody>\n",
       "</table>\n",
       "<p>63121 rows × 3 columns</p>\n",
       "</div>"
      ],
      "text/plain": [
       "       Unnamed: 0                                      combined_text  label\n",
       "0               0  As U.S. budget fight looms, Republicans flip t...      0\n",
       "1               1  U.S. military to accept transgender recruits o...      0\n",
       "2               2  Senior U.S. Republican senator: 'Let Mr. Muell...      0\n",
       "3               3  FBI Russia probe helped by Australian diplomat...      0\n",
       "4               4  Trump wants Postal Service to charge 'much mor...      0\n",
       "...           ...                                                ...    ...\n",
       "63117       72108  Kris Kobach: Democrats Already Attacking Elect...      0\n",
       "63118       72109  Police Are Now Warning People To Take A Photo ...      1\n",
       "63119       72117  Tested by Russia, NATO Struggles to Stay Credi...      0\n",
       "63120       72123  Dallas, Roger Federer, Hillary Clinton: Your F...      0\n",
       "63121       72124  An Unlikely Contender Rises in France as the A...      0\n",
       "\n",
       "[63121 rows x 3 columns]"
      ]
     },
     "execution_count": 8,
     "metadata": {},
     "output_type": "execute_result"
    }
   ],
   "source": [
    "df"
   ]
  },
  {
   "cell_type": "code",
   "execution_count": 9,
   "id": "7a50b079",
   "metadata": {},
   "outputs": [
    {
     "data": {
      "text/plain": [
       "[['budget',\n",
       "  'fight',\n",
       "  'looms',\n",
       "  'republicans',\n",
       "  'flip',\n",
       "  'fiscal',\n",
       "  'script',\n",
       "  'washington',\n",
       "  'reuters',\n",
       "  'head',\n",
       "  'conservative',\n",
       "  'republican',\n",
       "  'faction',\n",
       "  'congress',\n",
       "  'voted',\n",
       "  'month',\n",
       "  'huge',\n",
       "  'expansion',\n",
       "  'national',\n",
       "  'debt',\n",
       "  'pay',\n",
       "  'tax',\n",
       "  'cuts',\n",
       "  'called',\n",
       "  'fiscal',\n",
       "  'conservative',\n",
       "  'sunday',\n",
       "  'urged',\n",
       "  'budget',\n",
       "  'restraint',\n",
       "  '2018',\n",
       "  'keeping',\n",
       "  'sharp',\n",
       "  'pivot',\n",
       "  'way',\n",
       "  'among',\n",
       "  'republicans',\n",
       "  'representative',\n",
       "  'mark',\n",
       "  'meadows',\n",
       "  'speaking',\n",
       "  'cbs',\n",
       "  'face',\n",
       "  'nation',\n",
       "  'drew',\n",
       "  'hard',\n",
       "  'line',\n",
       "  'federal',\n",
       "  'spending',\n",
       "  'lawmakers',\n",
       "  'bracing',\n",
       "  'battle',\n",
       "  'january',\n",
       "  'return',\n",
       "  'holidays',\n",
       "  'wednesday',\n",
       "  'lawmakers',\n",
       "  'begin',\n",
       "  'trying',\n",
       "  'pass',\n",
       "  'federal',\n",
       "  'budget',\n",
       "  'fight',\n",
       "  'likely',\n",
       "  'linked',\n",
       "  'issues',\n",
       "  'immigration',\n",
       "  'policy',\n",
       "  'even',\n",
       "  'november',\n",
       "  'congressional',\n",
       "  'election',\n",
       "  'campaigns',\n",
       "  'approach',\n",
       "  'republicans',\n",
       "  'seek',\n",
       "  'keep',\n",
       "  'control',\n",
       "  'congress',\n",
       "  'president',\n",
       "  'donald',\n",
       "  'trump',\n",
       "  'republicans',\n",
       "  'want',\n",
       "  'big',\n",
       "  'budget',\n",
       "  'increase',\n",
       "  'military',\n",
       "  'spending',\n",
       "  'democrats',\n",
       "  'also',\n",
       "  'want',\n",
       "  'proportional',\n",
       "  'increases',\n",
       "  'non',\n",
       "  'defense',\n",
       "  'discretionary',\n",
       "  'spending',\n",
       "  'programs',\n",
       "  'support',\n",
       "  'education',\n",
       "  'scientific',\n",
       "  'research',\n",
       "  'infrastructure',\n",
       "  'public',\n",
       "  'health',\n",
       "  'environmental',\n",
       "  'protection',\n",
       "  'trump',\n",
       "  'administration',\n",
       "  'already',\n",
       "  'willing',\n",
       "  'say',\n",
       "  'going',\n",
       "  'increase',\n",
       "  'non',\n",
       "  'defense',\n",
       "  'discretionary',\n",
       "  'spending',\n",
       "  'percent',\n",
       "  'meadows',\n",
       "  'chairman',\n",
       "  'small',\n",
       "  'influential',\n",
       "  'house',\n",
       "  'freedom',\n",
       "  'caucus',\n",
       "  'said',\n",
       "  'program',\n",
       "  'democrats',\n",
       "  'saying',\n",
       "  'enough',\n",
       "  'need',\n",
       "  'give',\n",
       "  'government',\n",
       "  'pay',\n",
       "  'raise',\n",
       "  '10',\n",
       "  '11',\n",
       "  'percent',\n",
       "  'fiscal',\n",
       "  'conservative',\n",
       "  'see',\n",
       "  'rationale',\n",
       "  'eventually',\n",
       "  'run',\n",
       "  'people',\n",
       "  'money',\n",
       "  'said',\n",
       "  'meadows',\n",
       "  'among',\n",
       "  'republicans',\n",
       "  'voted',\n",
       "  'late',\n",
       "  'december',\n",
       "  'party',\n",
       "  'debt',\n",
       "  'financed',\n",
       "  'tax',\n",
       "  'overhaul',\n",
       "  'expected',\n",
       "  'balloon',\n",
       "  'federal',\n",
       "  'budget',\n",
       "  'deficit',\n",
       "  'add',\n",
       "  'trillion',\n",
       "  '10',\n",
       "  'years',\n",
       "  '20',\n",
       "  'trillion',\n",
       "  'national',\n",
       "  'debt',\n",
       "  'interesting',\n",
       "  'hear',\n",
       "  'mark',\n",
       "  'talk',\n",
       "  'fiscal',\n",
       "  'responsibility',\n",
       "  'democratic',\n",
       "  'representative',\n",
       "  'joseph',\n",
       "  'crowley',\n",
       "  'said',\n",
       "  'cbs',\n",
       "  'crowley',\n",
       "  'said',\n",
       "  'republican',\n",
       "  'tax',\n",
       "  'bill',\n",
       "  'would',\n",
       "  'require',\n",
       "  'united',\n",
       "  'states',\n",
       "  'borrow',\n",
       "  'trillion',\n",
       "  'paid',\n",
       "  'future',\n",
       "  'generations',\n",
       "  'finance',\n",
       "  'tax',\n",
       "  'cuts',\n",
       "  'corporations',\n",
       "  'rich',\n",
       "  'one',\n",
       "  'least',\n",
       "  'fiscally',\n",
       "  'responsible',\n",
       "  'bills',\n",
       "  'ever',\n",
       "  'seen',\n",
       "  'passed',\n",
       "  'history',\n",
       "  'house',\n",
       "  'representatives',\n",
       "  'think',\n",
       "  'going',\n",
       "  'paying',\n",
       "  'many',\n",
       "  'many',\n",
       "  'years',\n",
       "  'come',\n",
       "  'crowley',\n",
       "  'said',\n",
       "  'republicans',\n",
       "  'insist',\n",
       "  'tax',\n",
       "  'package',\n",
       "  'biggest',\n",
       "  'tax',\n",
       "  'overhaul',\n",
       "  '30',\n",
       "  'years',\n",
       "  'boost',\n",
       "  'economy',\n",
       "  'job',\n",
       "  'growth',\n",
       "  'house',\n",
       "  'speaker',\n",
       "  'paul',\n",
       "  'ryan',\n",
       "  'also',\n",
       "  'supported',\n",
       "  'tax',\n",
       "  'bill',\n",
       "  'recently',\n",
       "  'went',\n",
       "  'meadows',\n",
       "  'making',\n",
       "  'clear',\n",
       "  'radio',\n",
       "  'interview',\n",
       "  'welfare',\n",
       "  'entitlement',\n",
       "  'reform',\n",
       "  'party',\n",
       "  'often',\n",
       "  'calls',\n",
       "  'would',\n",
       "  'top',\n",
       "  'republican',\n",
       "  'priority',\n",
       "  '2018',\n",
       "  'republican',\n",
       "  'parlance',\n",
       "  'entitlement',\n",
       "  'programs',\n",
       "  'mean',\n",
       "  'food',\n",
       "  'stamps',\n",
       "  'housing',\n",
       "  'assistance',\n",
       "  'medicare',\n",
       "  'medicaid',\n",
       "  'health',\n",
       "  'insurance',\n",
       "  'elderly',\n",
       "  'poor',\n",
       "  'disabled',\n",
       "  'well',\n",
       "  'programs',\n",
       "  'created',\n",
       "  'washington',\n",
       "  'assist',\n",
       "  'needy',\n",
       "  'democrats',\n",
       "  'seized',\n",
       "  'ryan',\n",
       "  'early',\n",
       "  'december',\n",
       "  'remarks',\n",
       "  'saying',\n",
       "  'showed',\n",
       "  'republicans',\n",
       "  'would',\n",
       "  'try',\n",
       "  'pay',\n",
       "  'tax',\n",
       "  'overhaul',\n",
       "  'seeking',\n",
       "  'spending',\n",
       "  'cuts',\n",
       "  'social',\n",
       "  'programs',\n",
       "  'goals',\n",
       "  'house',\n",
       "  'republicans',\n",
       "  'may',\n",
       "  'take',\n",
       "  'back',\n",
       "  'seat',\n",
       "  'senate',\n",
       "  'votes',\n",
       "  'democrats',\n",
       "  'needed',\n",
       "  'approve',\n",
       "  'budget',\n",
       "  'prevent',\n",
       "  'government',\n",
       "  'shutdown',\n",
       "  'democrats',\n",
       "  'use',\n",
       "  'leverage',\n",
       "  'senate',\n",
       "  'republicans',\n",
       "  'narrowly',\n",
       "  'control',\n",
       "  'defend',\n",
       "  'discretionary',\n",
       "  'non',\n",
       "  'defense',\n",
       "  'programs',\n",
       "  'social',\n",
       "  'spending',\n",
       "  'tackling',\n",
       "  'issue',\n",
       "  'dreamers',\n",
       "  'people',\n",
       "  'brought',\n",
       "  'illegally',\n",
       "  'country',\n",
       "  'children',\n",
       "  'trump',\n",
       "  'september',\n",
       "  'put',\n",
       "  'march',\n",
       "  '2018',\n",
       "  'expiration',\n",
       "  'date',\n",
       "  'deferred',\n",
       "  'action',\n",
       "  'childhood',\n",
       "  'arrivals',\n",
       "  'daca',\n",
       "  'program',\n",
       "  'protects',\n",
       "  'young',\n",
       "  'immigrants',\n",
       "  'deportation',\n",
       "  'provides',\n",
       "  'work',\n",
       "  'permits',\n",
       "  'president',\n",
       "  'said',\n",
       "  'recent',\n",
       "  'twitter',\n",
       "  'messages',\n",
       "  'wants',\n",
       "  'funding',\n",
       "  'proposed',\n",
       "  'mexican',\n",
       "  'border',\n",
       "  'wall',\n",
       "  'immigration',\n",
       "  'law',\n",
       "  'changes',\n",
       "  'exchange',\n",
       "  'agreeing',\n",
       "  'help',\n",
       "  'dreamers',\n",
       "  'representative',\n",
       "  'debbie',\n",
       "  'dingell',\n",
       "  'told',\n",
       "  'cbs',\n",
       "  'favor',\n",
       "  'linking',\n",
       "  'issue',\n",
       "  'policy',\n",
       "  'objectives',\n",
       "  'wall',\n",
       "  'funding',\n",
       "  'need',\n",
       "  'daca',\n",
       "  'clean',\n",
       "  'said',\n",
       "  'wednesday',\n",
       "  'trump',\n",
       "  'aides',\n",
       "  'meet',\n",
       "  'congressional',\n",
       "  'leaders',\n",
       "  'discuss',\n",
       "  'issues',\n",
       "  'followed',\n",
       "  'weekend',\n",
       "  'strategy',\n",
       "  'sessions',\n",
       "  'trump',\n",
       "  'republican',\n",
       "  'leaders',\n",
       "  'jan',\n",
       "  'white',\n",
       "  'house',\n",
       "  'said',\n",
       "  'trump',\n",
       "  'also',\n",
       "  'scheduled',\n",
       "  'meet',\n",
       "  'sunday',\n",
       "  'florida',\n",
       "  'republican',\n",
       "  'governor',\n",
       "  'rick',\n",
       "  'scott',\n",
       "  'wants',\n",
       "  'emergency',\n",
       "  'aid',\n",
       "  'house',\n",
       "  'passed',\n",
       "  '81',\n",
       "  'billion',\n",
       "  'aid',\n",
       "  'package',\n",
       "  'hurricanes',\n",
       "  'florida',\n",
       "  'texas',\n",
       "  'puerto',\n",
       "  'rico',\n",
       "  'wildfires',\n",
       "  'california',\n",
       "  'package',\n",
       "  'far',\n",
       "  'exceeded',\n",
       "  '44',\n",
       "  'billion',\n",
       "  'requested',\n",
       "  'trump',\n",
       "  'administration',\n",
       "  'senate',\n",
       "  'yet',\n",
       "  'voted',\n",
       "  'aid']]"
      ]
     },
     "execution_count": 9,
     "metadata": {},
     "output_type": "execute_result"
    }
   ],
   "source": [
    "X[:1]"
   ]
  },
  {
   "cell_type": "code",
   "execution_count": 10,
   "id": "65018c4b",
   "metadata": {},
   "outputs": [],
   "source": [
    "import gensim"
   ]
  },
  {
   "cell_type": "code",
   "execution_count": 11,
   "id": "3606c509",
   "metadata": {},
   "outputs": [
    {
     "data": {
      "text/plain": [
       "243909"
      ]
     },
     "execution_count": 11,
     "metadata": {},
     "output_type": "execute_result"
    }
   ],
   "source": [
    "EMBEDDING_DIM = 100\n",
    "w2v_model = gensim.models.Word2Vec(sentences=X, vector_size=EMBEDDING_DIM, window=5, min_count=1)\n",
    "words = list(w2v_model.wv.index_to_key)\n",
    "len(words)"
   ]
  },
  {
   "cell_type": "code",
   "execution_count": 12,
   "id": "642a96a5",
   "metadata": {},
   "outputs": [
    {
     "data": {
      "text/plain": [
       "array([-1.1248957 ,  1.791295  , -1.0677317 , -1.911339  ,  3.8071132 ,\n",
       "        1.9662032 ,  2.4850256 , -3.6131506 ,  2.1099725 ,  0.71248025,\n",
       "       -2.563874  , -3.4910066 ,  2.0140488 , -3.6324883 ,  0.48768723,\n",
       "       -1.7568052 ,  3.6754122 ,  2.687256  ,  1.6061199 ,  2.0156872 ,\n",
       "       -2.6695945 , -0.7058027 , -4.7716866 ,  0.8927717 , -4.0206146 ,\n",
       "       -2.6510766 ,  1.5332013 , -1.3739194 ,  5.330484  , -1.6613712 ,\n",
       "        1.2069558 ,  2.1351347 ,  1.6082405 ,  3.1311474 ,  0.24862635,\n",
       "       -0.08949088, -4.4685125 ,  1.3879026 , -0.80580425,  0.01818434,\n",
       "        1.6987386 , -0.7490962 , -0.6732319 ,  1.1934509 ,  2.246707  ,\n",
       "        0.01881367,  2.9455953 , -3.953993  ,  1.1761416 ,  1.2886609 ,\n",
       "        3.2523234 ,  5.203584  ,  6.030929  ,  2.06489   ,  0.6292108 ,\n",
       "        1.3700136 , -1.9479749 , -5.237422  , -0.09573597,  0.18291798,\n",
       "       -0.7049492 ,  0.16898881,  0.9666578 , -1.1834164 ,  1.6717844 ,\n",
       "        0.81727254, -1.0241734 , -2.4798927 , -0.12295304, -3.0394065 ,\n",
       "        2.9716523 , -0.73420656,  0.8126565 ,  1.1335621 ,  1.4370633 ,\n",
       "        3.8702714 ,  2.0477126 , -1.5250719 ,  1.3530587 ,  0.42083135,\n",
       "       -0.32764018,  1.6714886 ,  1.618762  , -5.2606707 , -1.2152995 ,\n",
       "        2.003349  , -1.7813082 , -1.5713576 , -1.3565325 , -2.4831572 ,\n",
       "        2.156018  , -0.46220508, -3.238874  , -0.2576725 , -2.9986656 ,\n",
       "       -1.9865491 ,  0.80993706,  1.4166291 , -0.3505089 , -0.06369945],\n",
       "      dtype=float32)"
      ]
     },
     "execution_count": 12,
     "metadata": {},
     "output_type": "execute_result"
    }
   ],
   "source": [
    "w2v_model.wv[\"house\"]"
   ]
  },
  {
   "cell_type": "code",
   "execution_count": 13,
   "id": "19fa9231",
   "metadata": {},
   "outputs": [
    {
     "data": {
      "text/plain": [
       "[('bush', 0.5635788440704346),\n",
       " ('hillary', 0.5482673048973083),\n",
       " ('sanders', 0.5431396961212158),\n",
       " ('elect', 0.5344852209091187),\n",
       " ('donald', 0.5218788981437683),\n",
       " ('yet', 0.5153979063034058),\n",
       " ('cruz', 0.5115275382995605),\n",
       " ('incoming', 0.5107570886611938),\n",
       " ('however', 0.5095996260643005),\n",
       " ('even', 0.4949284493923187)]"
      ]
     },
     "execution_count": 13,
     "metadata": {},
     "output_type": "execute_result"
    }
   ],
   "source": [
    "w2v_model.wv.most_similar (positive=[\"trump\", \"obama\", \"clinton\"])"
   ]
  },
  {
   "cell_type": "code",
   "execution_count": 14,
   "id": "3f25e92f",
   "metadata": {},
   "outputs": [],
   "source": [
    "tokenizer = Tokenizer()\n",
    "tokenizer.fit_on_texts(X)\n",
    "X = tokenizer.texts_to_sequences(X)"
   ]
  },
  {
   "cell_type": "code",
   "execution_count": 15,
   "id": "dbd8deac",
   "metadata": {},
   "outputs": [
    {
     "data": {
      "text/plain": [
       "[492, 379, 11068, 75, 4982, 1745, 5121, 51, 41, 341]"
      ]
     },
     "execution_count": 15,
     "metadata": {},
     "output_type": "execute_result"
    }
   ],
   "source": [
    "#first 10 words of first news, every word has been represented with a number \n",
    "X[0][:10]"
   ]
  },
  {
   "cell_type": "code",
   "execution_count": 16,
   "id": "62779c72",
   "metadata": {},
   "outputs": [
    {
     "name": "stdout",
     "output_type": "stream",
     "text": [
      "said -> 1\n",
      "trump -> 2\n",
      "would -> 3\n",
      "president -> 4\n",
      "people -> 5\n",
      "one -> 6\n",
      "new -> 7\n",
      "mr -> 8\n",
      "clinton -> 9\n",
      "state -> 10\n"
     ]
    }
   ],
   "source": [
    "word_index = tokenizer.word_index\n",
    "\n",
    "for word, num in word_index.items():\n",
    "    print(f\"{word} -> {num}\")\n",
    "    if num == 10:\n",
    "        break\n"
   ]
  },
  {
   "cell_type": "code",
   "execution_count": 17,
   "id": "0dfbd178",
   "metadata": {},
   "outputs": [
    {
     "data": {
      "image/png": "[encoded data removed]",
      "text/plain": [
       "<Figure size 640x480 with 1 Axes>"
      ]
     },
     "metadata": {},
     "output_type": "display_data"
    }
   ],
   "source": [
    "plt.hist([len(x) for x in X], bins=500)\n",
    "plt.show()"
   ]
  },
  {
   "cell_type": "code",
   "execution_count": 18,
   "id": "054a81e2",
   "metadata": {},
   "outputs": [
    {
     "data": {
      "text/plain": [
       "63121"
      ]
     },
     "execution_count": 18,
     "metadata": {},
     "output_type": "execute_result"
    }
   ],
   "source": [
    "len(y)"
   ]
  },
  {
   "cell_type": "code",
   "execution_count": 19,
   "id": "0872d04a",
   "metadata": {},
   "outputs": [
    {
     "data": {
      "text/plain": [
       "58247"
      ]
     },
     "execution_count": 19,
     "metadata": {},
     "output_type": "execute_result"
    }
   ],
   "source": [
    "nos = np.array([len(x) for x in X])\n",
    "len(nos[nos < 700])\n",
    "#out of 63k nwes articles, 58k have length less than 700 words "
   ]
  },
  {
   "cell_type": "code",
   "execution_count": 20,
   "id": "f2e54a8a",
   "metadata": {},
   "outputs": [],
   "source": [
    "maxlen=700\n",
    "X=pad_sequences(X,maxlen=maxlen)"
   ]
  },
  {
   "cell_type": "code",
   "execution_count": 21,
   "id": "cd25f1da",
   "metadata": {},
   "outputs": [
    {
     "data": {
      "text/plain": [
       "700"
      ]
     },
     "execution_count": 21,
     "metadata": {},
     "output_type": "execute_result"
    }
   ],
   "source": [
    "len(X[1])"
   ]
  },
  {
   "cell_type": "code",
   "execution_count": 22,
   "id": "88c3f80c",
   "metadata": {},
   "outputs": [],
   "source": [
    "vocab_size=len(tokenizer.word_index)+1"
   ]
  },
  {
   "cell_type": "code",
   "execution_count": 23,
   "id": "99fa74b9",
   "metadata": {},
   "outputs": [
    {
     "data": {
      "text/plain": [
       "243910"
      ]
     },
     "execution_count": 23,
     "metadata": {},
     "output_type": "execute_result"
    }
   ],
   "source": [
    "vocab_size"
   ]
  },
  {
   "cell_type": "code",
   "execution_count": 24,
   "id": "28fdad12",
   "metadata": {},
   "outputs": [],
   "source": [
    "def get_weight_matrix(model, vocab):\n",
    "    vocab_size = len(vocab) + 1\n",
    "    weight_matrix = np.zeros((vocab_size, EMBEDDING_DIM))\n",
    "    for word, i in vocab.items():\n",
    "        if word in model.wv:\n",
    "            weight_matrix[i] = model.wv[word]\n",
    "    return weight_matrix\n",
    "\n",
    "embedding_vectors = get_weight_matrix(w2v_model, word_index)"
   ]
  },
  {
   "cell_type": "code",
   "execution_count": 25,
   "id": "0fd7393b",
   "metadata": {},
   "outputs": [],
   "source": [
    "model = Sequential()\n",
    "\n",
    "# Non-trainable embedding layer\n",
    "model.add(Embedding(input_dim=vocab_size, output_dim=EMBEDDING_DIM, weights=[embedding_vectors], input_length=maxlen, trainable=False))\n",
    "\n",
    "# LSTM layer\n",
    "model.add(LSTM(units=128))\n",
    "\n",
    "# Output layer\n",
    "model.add(Dense(1, activation='sigmoid'))\n",
    "\n",
    "# Compile the model\n",
    "model.compile(optimizer='adam', loss='binary_crossentropy', metrics=['acc'])"
   ]
  },
  {
   "cell_type": "code",
   "execution_count": 26,
   "id": "c5f5d4fe",
   "metadata": {},
   "outputs": [
    {
     "name": "stdout",
     "output_type": "stream",
     "text": [
      "Model: \"sequential\"\n",
      "_________________________________________________________________\n",
      " Layer (type)                Output Shape              Param #   \n",
      "=================================================================\n",
      " embedding (Embedding)       (None, 700, 100)          24391000  \n",
      "                                                                 \n",
      " lstm (LSTM)                 (None, 128)               117248    \n",
      "                                                                 \n",
      " dense (Dense)               (None, 1)                 129       \n",
      "                                                                 \n",
      "=================================================================\n",
      "Total params: 24508377 (93.49 MB)\n",
      "Trainable params: 117377 (458.50 KB)\n",
      "Non-trainable params: 24391000 (93.04 MB)\n",
      "_________________________________________________________________\n"
     ]
    }
   ],
   "source": [
    "model.summary()"
   ]
  },
  {
   "cell_type": "code",
   "execution_count": 27,
   "id": "2cece72d",
   "metadata": {},
   "outputs": [
    {
     "name": "stdout",
     "output_type": "stream",
     "text": [
      "Epoch 1/10\n",
      "1036/1036 [==============================] - 367s 353ms/step - loss: 0.2536 - acc: 0.8987 - val_loss: 0.1927 - val_acc: 0.9271\n",
      "Epoch 2/10\n",
      "1036/1036 [==============================] - 354s 341ms/step - loss: 0.1324 - acc: 0.9492 - val_loss: 0.0907 - val_acc: 0.9673\n",
      "Epoch 3/10\n",
      "1036/1036 [==============================] - 356s 344ms/step - loss: 0.0720 - acc: 0.9733 - val_loss: 0.0710 - val_acc: 0.9748\n",
      "Epoch 4/10\n",
      "1036/1036 [==============================] - 358s 345ms/step - loss: 0.0540 - acc: 0.9804 - val_loss: 0.0687 - val_acc: 0.9765\n",
      "Epoch 5/10\n",
      "1036/1036 [==============================] - 356s 344ms/step - loss: 0.0444 - acc: 0.9835 - val_loss: 0.0672 - val_acc: 0.9749\n",
      "Epoch 6/10\n",
      "1036/1036 [==============================] - 355s 343ms/step - loss: 0.0283 - acc: 0.9906 - val_loss: 0.0667 - val_acc: 0.9773\n",
      "Epoch 7/10\n",
      "1036/1036 [==============================] - 365s 352ms/step - loss: 0.0216 - acc: 0.9932 - val_loss: 0.0739 - val_acc: 0.9762\n",
      "Epoch 8/10\n",
      "1036/1036 [==============================] - 361s 349ms/step - loss: 0.0198 - acc: 0.9936 - val_loss: 0.0794 - val_acc: 0.9716\n",
      "Epoch 9/10\n",
      "1036/1036 [==============================] - 354s 342ms/step - loss: 0.0133 - acc: 0.9960 - val_loss: 0.0812 - val_acc: 0.9761\n",
      "Epoch 10/10\n",
      "1036/1036 [==============================] - 362s 349ms/step - loss: 0.0090 - acc: 0.9975 - val_loss: 0.0868 - val_acc: 0.9773\n"
     ]
    }
   ],
   "source": [
    "X_train, X_test, y_train, y_test = train_test_split(X, y)\n",
    "history=model.fit(X_train, y_train, validation_split=0.3, epochs=10)"
   ]
  },
  {
   "cell_type": "code",
   "execution_count": 28,
   "id": "87eed3d2",
   "metadata": {},
   "outputs": [
    {
     "name": "stdout",
     "output_type": "stream",
     "text": [
      "494/494 [==============================] - 47s 95ms/step\n"
     ]
    },
    {
     "data": {
      "text/plain": [
       "array([[0],\n",
       "       [1],\n",
       "       [1],\n",
       "       ...,\n",
       "       [1],\n",
       "       [1],\n",
       "       [1]])"
      ]
     },
     "execution_count": 28,
     "metadata": {},
     "output_type": "execute_result"
    }
   ],
   "source": [
    "y_pred = (model.predict(X_test) >= 0.5).astype(\"int\")\n",
    "y_pred"
   ]
  },
  {
   "cell_type": "code",
   "execution_count": 29,
   "id": "7ef77806",
   "metadata": {},
   "outputs": [
    {
     "data": {
      "text/plain": [
       "0.9771877574298207"
      ]
     },
     "execution_count": 29,
     "metadata": {},
     "output_type": "execute_result"
    }
   ],
   "source": [
    "accuracy_score(y_test,y_pred)"
   ]
  },
  {
   "cell_type": "code",
   "execution_count": 30,
   "id": "f953a3fc",
   "metadata": {},
   "outputs": [
    {
     "name": "stdout",
     "output_type": "stream",
     "text": [
      "              precision    recall  f1-score   support\n",
      "\n",
      "           0       0.99      0.97      0.98      8699\n",
      "           1       0.97      0.98      0.97      7082\n",
      "\n",
      "    accuracy                           0.98     15781\n",
      "   macro avg       0.98      0.98      0.98     15781\n",
      "weighted avg       0.98      0.98      0.98     15781\n",
      "\n"
     ]
    }
   ],
   "source": [
    "print(classification_report(y_test,y_pred))"
   ]
  },
  {
   "cell_type": "code",
   "execution_count": 31,
   "id": "20fda761",
   "metadata": {},
   "outputs": [],
   "source": [
    "tester=[\"A high-risk, high-return strategy, microcap stocks are those whose market-capitalisation falls below Rs 3,000 crore. If picked with care and backed by good research, these stocks can give a big kicker in returns. And market correction presents a good opportunity to do quality picking.\"]\n",
    "tf_tester=tokenizer.texts_to_sequences(tester)\n",
    "tf_tester=pad_sequences(tf_tester, maxlen=maxlen)\n",
    "tester2=[\"Narendra Modi is giving out Trillions of dollars to the farmers to help them with the recent crop failure, Naman Tanwar, a farmer who lost his life earnings in a crop failure recently became a billionare after this donation\"]\n",
    "tf_tester2=tokenizer.texts_to_sequences(tester2)\n",
    "tf_tester2=pad_sequences(tf_tester2, maxlen=maxlen)\n",
    "tester3=[\"The three-day survey of the complex being done by the Commission concluded on Monday at noon, with officials saying that the findings of the survey were “confidential”.\"]\n",
    "tf_tester3=tokenizer.texts_to_sequences(tester3)\n",
    "tf_tester3=pad_sequences(tf_tester3, maxlen=maxlen)\n",
    "tester4=[\"Afghanistan crisis is primarily the fault of America\"]\n",
    "tf_tester4=tokenizer.texts_to_sequences(tester4)\n",
    "tf_tester=pad_sequences(tf_tester4, maxlen=maxlen)\n",
    "tester5=[\"this is a news article that is obviously fake\"]\n",
    "tf_tester5=tokenizer.texts_to_sequences(tester5)\n",
    "tf_tester5=pad_sequences(tf_tester5, maxlen=maxlen)"
   ]
  },
  {
   "cell_type": "code",
   "execution_count": 52,
   "id": "fa773acf",
   "metadata": {},
   "outputs": [
    {
     "name": "stdout",
     "output_type": "stream",
     "text": [
      "1/1 [==============================] - 0s 34ms/step\n"
     ]
    },
    {
     "data": {
      "text/plain": [
       "array([[1]])"
      ]
     },
     "execution_count": 52,
     "metadata": {},
     "output_type": "execute_result"
    }
   ],
   "source": [
    "x=(model.predict(tf_tester2)>=0.5).astype(int)\n",
    "x"
   ]
  },
  {
   "cell_type": "code",
   "execution_count": 53,
   "id": "d39f4e5d",
   "metadata": {},
   "outputs": [
    {
     "name": "stdout",
     "output_type": "stream",
     "text": [
      "This news is fake according to Deep Learning Model\n"
     ]
    }
   ],
   "source": [
    "if(x==0):\n",
    "    print(\"This news is real according to Deep Learning Model\")\n",
    "if(x==1):\n",
    "    print(\"This news is fake according to Deep Learning Model\")"
   ]
  },
  {
   "cell_type": "code",
   "execution_count": 34,
   "id": "943e78dd",
   "metadata": {},
   "outputs": [],
   "source": [
    "import matplotlib.pyplot as plt"
   ]
  },
  {
   "cell_type": "code",
   "execution_count": 46,
   "id": "13f0c15c",
   "metadata": {},
   "outputs": [
    {
     "data": {
      "image/png": "[encoded data removed]",
      "text/plain": [
       "<Figure size 640x480 with 1 Axes>"
      ]
     },
     "metadata": {},
     "output_type": "display_data"
    }
   ],
   "source": [
    "loss_train = history.history['acc']\n",
    "loss_val = history.history['val_acc']\n",
    "epochs = range(0, 10)\n",
    "plt.plot(epochs, loss_train, 'g', label='Training accuracy')\n",
    "plt.plot(epochs, loss_val, label='Validation accuracy')\n",
    "plt.title('Training and Validation accuracy')\n",
    "plt.xlabel('Epochs')\n",
    "plt.ylabel('Accuracy')\n",
    "plt.legend()\n",
    "plt.show()"
   ]
  },
  {
   "cell_type": "code",
   "execution_count": 36,
   "id": "3ea23335",
   "metadata": {},
   "outputs": [
    {
     "name": "stdout",
     "output_type": "stream",
     "text": [
      "[[8456  243]\n",
      " [ 117 6965]]\n"
     ]
    }
   ],
   "source": [
    "from sklearn.metrics import confusion_matrix\n",
    "\n",
    "cm = confusion_matrix(y_test, y_pred)\n",
    "print(cm)"
   ]
  },
  {
   "cell_type": "code",
   "execution_count": 37,
   "id": "9cc8b5ab",
   "metadata": {},
   "outputs": [
    {
     "data": {
      "image/png": "[encoded data removed]",
      "text/plain": [
       "<Figure size 1000x700 with 2 Axes>"
      ]
     },
     "metadata": {},
     "output_type": "display_data"
    }
   ],
   "source": [
    "import seaborn as sns\n",
    "import matplotlib.pyplot as plt\n",
    "\n",
    "plt.figure(figsize=(10, 7))\n",
    "sns.heatmap(cm, annot=True)\n",
    "plt.xlabel('Predicted')\n",
    "plt.ylabel('Truth')\n",
    "plt.show()"
   ]
  },
  {
   "cell_type": "code",
   "execution_count": 47,
   "id": "2797ee9f",
   "metadata": {},
   "outputs": [
    {
     "data": {
      "image/png": "[encoded data removed]",
      "text/plain": [
       "<Figure size 640x480 with 1 Axes>"
      ]
     },
     "metadata": {},
     "output_type": "display_data"
    }
   ],
   "source": [
    "loss_train = history.history['loss']\n",
    "loss_val = history.history['val_loss']  # Corrected the key to 'val_loss'\n",
    "epochs = range(0,10)  # Start epochs from 1\n",
    "\n",
    "plt.plot(epochs, loss_train, 'g', label='Training loss')\n",
    "plt.plot(epochs, loss_val, 'b', label='Validation loss')  # Corrected the syntax here\n",
    "plt.title('Training and Validation loss')\n",
    "plt.xlabel('Epochs')\n",
    "plt.ylabel('Loss')\n",
    "plt.legend()\n",
    "plt.show()"
   ]
  },
  {
   "cell_type": "code",
   "execution_count": 49,
   "id": "42919ecf",
   "metadata": {},
   "outputs": [],
   "source": [
    "from keras.models import load_model\n",
    "import pickle \n",
    "model.save (\"DeepLearninlModel.h5\")\n",
    "pickle.dump(tokenizer, open(\"tokeniser.pickle\", \"wb\"))"
   ]
  },
  {
   "cell_type": "code",
   "execution_count": null,
   "id": "b62fafbc",
   "metadata": {},
   "outputs": [],
   "source": []
  }
 ],
 "metadata": {
  "kernelspec": {
   "display_name": "Python 3 (ipykernel)",
   "language": "python",
   "name": "python3"
  },
  "language_info": {
   "codemirror_mode": {
    "name": "ipython",
    "version": 3
   },
   "file_extension": ".py",
   "mimetype": "text/x-python",
   "name": "python",
   "nbconvert_exporter": "python",
   "pygments_lexer": "ipython3",
   "version": "3.11.4"
  }
 },
 "nbformat": 4,
 "nbformat_minor": 5
}
